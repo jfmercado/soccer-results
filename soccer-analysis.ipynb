{
 "cells": [
  {
   "cell_type": "markdown",
   "id": "3ed0edb2-696b-49ab-9db0-681defcce695",
   "metadata": {},
   "source": [
    "![A soccer pitch for an international match.](resources/soccer-pitch.jpg)\n",
    "\n",
    "You're working as a sports journalist at a major online sports media company, specializing in soccer analysis and reporting. You've been watching both men's and women's international soccer matches for a number of years, and your gut instinct tells you that more goals are scored in women's international football matches than men's. This would make an interesting investigative article that your subscribers are bound to love, but you'll need to perform a valid statistical hypothesis test to be sure!\n",
    "\n",
    "While scoping this project, you acknowledge that the sport has changed a lot over the years, and performances likely vary a lot depending on the tournament, so you decide to limit the data used in the analysis to only official `FIFA World Cup` matches (not including qualifiers) since `2002-01-01`.\n",
    "\n",
    "You create two datasets containing the results of every official men's and women's international football match since the 19th century, which you scraped from a reliable online source. This data is stored in two CSV files: `women_results.csv` and `men_results.csv`.\n",
    "\n",
    "The question you are trying to determine the answer to is:\n",
    "\n",
    "> Are more goals scored in women's international soccer matches than men's?\n",
    "\n",
    "You assume a **10% significance level**, and use the following null and alternative hypotheses:\n",
    "\n",
    "$H_0$ : The mean number of goals scored in women's international soccer matches is the same as men's.\n",
    "\n",
    "$H_A$ : The mean number of goals scored in women's international soccer matches is greater than men's."
   ]
  },
  {
   "cell_type": "markdown",
   "id": "d3f70cec-fd13-4fd8-a832-60f8bd351bca",
   "metadata": {},
   "source": [
    "# Steps\n",
    "1. Import data\n",
    "2. Clean and transform data\n",
    "    - Filter data to constraints\n",
    "        - FIFA World Cup matches\n",
    "        - After 2002-01-01\n",
    "3. Choose hypothesis test\n",
    "    - Exploratory Data Analysis\n",
    "    - Two independent groups\n",
    "        - unpaired t-test or MWU test, depending on distribution\n",
    "    - Women's mean goals are **greater** than men's mean goals\n",
    "        - right tailed test\n",
    "4. Perform hypothesis test\n",
    "    - Return p_value\n",
    "5. Interpret results\n",
    "    - If p_value < alpha (0.1), reject the null hypothesis (The difference between mean goals scored between the two groups is not statistically significant) "
   ]
  },
  {
   "cell_type": "markdown",
   "id": "72282f48-bb6a-4ad1-affe-223a22c745c4",
   "metadata": {},
   "source": [
    "# Import Data"
   ]
  },
  {
   "cell_type": "code",
   "execution_count": 5,
   "id": "84a3c4c8-534b-4d1a-9919-17e05208b2ca",
   "metadata": {
    "executionCancelledAt": null,
    "executionTime": 85,
    "lastExecutedAt": 1736983508228,
    "lastExecutedByKernel": "9f22b6c8-edc5-4b9c-8db7-46f1202f2a95",
    "lastScheduledRunId": null,
    "lastSuccessfullyExecutedCode": "# Environment Setup & Data Import\nimport pandas as pd\nimport numpy as np\nimport matplotlib.pyplot as plt\n\nresults = pd.concat([\n    pd.read_csv('women_results.csv').assign(gender='women'),\n    pd.read_csv('men_results.csv').assign(gender='men')\n], ignore_index=True)\nresults.info()",
    "outputsMetadata": {
     "0": {
      "height": 0,
      "type": "stream"
     }
    }
   },
   "outputs": [
    {
     "name": "stdout",
     "output_type": "stream",
     "text": [
      "<class 'pandas.core.frame.DataFrame'>\n",
      "RangeIndex: 49237 entries, 0 to 49236\n",
      "Data columns (total 8 columns):\n",
      " #   Column      Non-Null Count  Dtype \n",
      "---  ------      --------------  ----- \n",
      " 0   Unnamed: 0  49237 non-null  int64 \n",
      " 1   date        49237 non-null  object\n",
      " 2   home_team   49237 non-null  object\n",
      " 3   away_team   49237 non-null  object\n",
      " 4   home_score  49237 non-null  int64 \n",
      " 5   away_score  49237 non-null  int64 \n",
      " 6   tournament  49237 non-null  object\n",
      " 7   gender      49237 non-null  object\n",
      "dtypes: int64(3), object(5)\n",
      "memory usage: 3.0+ MB\n"
     ]
    }
   ],
   "source": [
    "# Environment Setup & Data Import\n",
    "import pandas as pd\n",
    "import numpy as np\n",
    "import matplotlib.pyplot as plt\n",
    "\n",
    "results = pd.concat([\n",
    "    pd.read_csv('data/women_results.csv').assign(gender='women'),\n",
    "    pd.read_csv('data/men_results.csv').assign(gender='men')\n",
    "], ignore_index=True)\n",
    "results.info()"
   ]
  },
  {
   "cell_type": "markdown",
   "id": "681fbc45-9710-451f-a3e2-d5d4f1f4d4e0",
   "metadata": {},
   "source": [
    "# Clean & Transform Data"
   ]
  },
  {
   "cell_type": "code",
   "execution_count": 6,
   "id": "fe26dd0a-30a7-4731-9d05-550d68fa1ffe",
   "metadata": {
    "executionCancelledAt": null,
    "executionTime": 55,
    "lastExecutedAt": 1736983508283,
    "lastExecutedByKernel": "9f22b6c8-edc5-4b9c-8db7-46f1202f2a95",
    "lastScheduledRunId": null,
    "lastSuccessfullyExecutedCode": "# Parse Dates\nresults['date'] = pd.to_datetime(results['date'])\n\n# Create Combined Goals column\nresults['combined_goals'] = results['home_score'] + results['away_score']\n\n# Find 'FIFA World Cup' syntax\nprint(results['tournament'][results['tournament'].str.contains('(?i)FIFA World Cup', na=False)].unique())\n\n# Filter for 'FIFA World Cup' and after 2002-01-01 only\nresults = results[(results['tournament'] == 'FIFA World Cup') & (results['date'] > '2002-01-01')]",
    "outputsMetadata": {
     "0": {
      "height": 0,
      "type": "stream"
     }
    }
   },
   "outputs": [
    {
     "name": "stdout",
     "output_type": "stream",
     "text": [
      "['FIFA World Cup' 'FIFA World Cup qualification']\n"
     ]
    }
   ],
   "source": [
    "# Parse Dates\n",
    "results['date'] = pd.to_datetime(results['date'])\n",
    "\n",
    "# Create Combined Goals column\n",
    "results['combined_goals'] = results['home_score'] + results['away_score']\n",
    "\n",
    "# Find 'FIFA World Cup' syntax\n",
    "print(results['tournament'][results['tournament'].str.contains('(?i)FIFA World Cup', na=False)].unique())\n",
    "\n",
    "# Filter for 'FIFA World Cup' and after 2002-01-01 only\n",
    "results = results[(results['tournament'] == 'FIFA World Cup') & (results['date'] > '2002-01-01')]"
   ]
  },
  {
   "cell_type": "markdown",
   "id": "8731f025-940b-4ddc-8409-1e0d826fa38a",
   "metadata": {},
   "source": [
    "# Choose Hypothesis Test - Exploratory Data Analysis"
   ]
  },
  {
   "cell_type": "code",
   "execution_count": 7,
   "id": "4e3544cf-02ef-444c-b97f-56af9ab45730",
   "metadata": {
    "executionCancelledAt": null,
    "executionTime": 48,
    "lastExecutedAt": 1736983508331,
    "lastExecutedByKernel": "9f22b6c8-edc5-4b9c-8db7-46f1202f2a95",
    "lastScheduledRunId": null,
    "lastSuccessfullyExecutedCode": "# Aggregate Summary\nagg_summ = results.groupby('gender')['combined_goals'].agg(['sum', 'mean', 'max', 'count'])\nprint(agg_summ)\n\n# Assign the summary stats to variables\nmen_goal_total, men_goal_mean, men_goal_max, men_sample_size = agg_summ.iloc[0]\nwomen_goal_total, women_goal_mean, women_goal_max, women_sample_size = agg_summ.iloc[1]",
    "outputsMetadata": {
     "0": {
      "height": 0,
      "type": "stream"
     }
    }
   },
   "outputs": [
    {
     "name": "stdout",
     "output_type": "stream",
     "text": [
      "        sum      mean  max  count\n",
      "gender                           \n",
      "men     965  2.513021    8    384\n",
      "women   596  2.980000   13    200\n"
     ]
    }
   ],
   "source": [
    "# Aggregate Summary\n",
    "agg_summ = results.groupby('gender')['combined_goals'].agg(['sum', 'mean', 'max', 'count'])\n",
    "print(agg_summ)\n",
    "\n",
    "# Assign the summary stats to variables\n",
    "men_goal_total, men_goal_mean, men_goal_max, men_sample_size = agg_summ.iloc[0]\n",
    "women_goal_total, women_goal_mean, women_goal_max, women_sample_size = agg_summ.iloc[1]"
   ]
  },
  {
   "cell_type": "code",
   "execution_count": 8,
   "id": "5ee14fca-6d83-44bc-b9cd-b24679f82d33",
   "metadata": {
    "executionCancelledAt": null,
    "executionTime": 56,
    "lastExecutedAt": 1736983508387,
    "lastExecutedByKernel": "9f22b6c8-edc5-4b9c-8db7-46f1202f2a95",
    "lastScheduledRunId": null,
    "lastSuccessfullyExecutedCode": "from scipy.stats import shapiro\n\n# Apply the Shapiro-Wilk test to check if each gender's goals scored are normally distributed\nprint(\"Women's Goals: \", shapiro(results[results['gender'] == 'women']['combined_goals']))\nprint(\"Men's Goals: \", shapiro(results[results['gender'] == 'men']['combined_goals']))",
    "outputsMetadata": {
     "0": {
      "height": 0,
      "type": "stream"
     }
    }
   },
   "outputs": [
    {
     "name": "stdout",
     "output_type": "stream",
     "text": [
      "Women's Goals:  ShapiroResult(statistic=0.8491019332746058, pvalue=3.890829384462926e-13)\n",
      "Men's Goals:  ShapiroResult(statistic=0.9266493059134338, pvalue=8.894989197030093e-13)\n"
     ]
    }
   ],
   "source": [
    "from scipy.stats import shapiro\n",
    "\n",
    "# Apply the Shapiro-Wilk test to check if each gender's goals scored are normally distributed\n",
    "print(\"Women's Goals: \", shapiro(results[results['gender'] == 'women']['combined_goals']))\n",
    "print(\"Men's Goals: \", shapiro(results[results['gender'] == 'men']['combined_goals']))"
   ]
  },
  {
   "cell_type": "markdown",
   "id": "a2950242-7c64-4649-a900-c72b9207d506",
   "metadata": {},
   "source": [
    "The p-values of each are incredibly small, so we reject the null hypothesis that the goals are not normally distributed. We can confirm this by visualizing them on a histogram."
   ]
  },
  {
   "cell_type": "code",
   "execution_count": 13,
   "id": "c5f7773e-71ac-4e0f-98fc-56d60cb48710",
   "metadata": {
    "collapsed": false,
    "executionCancelledAt": null,
    "executionTime": 299,
    "jupyter": {
     "outputs_hidden": false,
     "source_hidden": false
    },
    "lastExecutedAt": 1736983508686,
    "lastExecutedByKernel": "9f22b6c8-edc5-4b9c-8db7-46f1202f2a95",
    "lastScheduledRunId": null,
    "lastSuccessfullyExecutedCode": "# Distribution of each gender's goals\nwomen_goals = results[results['gender'] == 'women']['combined_goals']\nmen_goals = results[results['gender'] == 'men']['combined_goals']\n\n# Plot the histograms\nplt.figure(figsize=(10, 6))\nplt.hist(men_goals, bins=int(men_goal_max), alpha=0.7, label=\"Men's Matches\", color='blue', edgecolor='black') # Goals can only be whole numbers, so we can set the bins to the max of each\nplt.hist(women_goals, bins=int(women_goal_max), alpha=0.7, label=\"Women's Matches\", color='pink', edgecolor='black')\n\n# Add titles and labels\nplt.title('Distribution of Combined Goals in Men\\'s and Women\\'s Matches', fontsize=16)\nplt.xlabel('Combined Goals', fontsize=12)\nplt.ylabel('Frequency', fontsize=12)\nplt.legend()\n\n# Show the plot\nplt.show()"
   },
   "outputs": [
    {
     "data": {
      "image/png": "[encoded data removed]",
      "text/plain": [
       "<Figure size 1000x600 with 1 Axes>"
      ]
     },
     "metadata": {},
     "output_type": "display_data"
    }
   ],
   "source": [
    "# Distribution of each gender's goals\n",
    "women_goals = results[results['gender'] == 'women']['combined_goals']\n",
    "men_goals = results[results['gender'] == 'men']['combined_goals']\n",
    "\n",
    "# Plot the histograms\n",
    "plt.figure(figsize=(10, 6))\n",
    "plt.hist(men_goals,\n",
    "         bins=int(men_goal_max), # Goals can only be whole numbers, so we can set the bins to the max of each\n",
    "         alpha=0.7,\n",
    "         label=\"Men's Matches\",\n",
    "         color='blue',\n",
    "         edgecolor='black'\n",
    "        )\n",
    "plt.hist(women_goals,\n",
    "         bins=int(women_goal_max),\n",
    "         alpha=0.7,\n",
    "         label=\"Women's Matches\",\n",
    "         color='pink',\n",
    "         edgecolor='black'\n",
    "        )\n",
    "\n",
    "# Add titles and labels\n",
    "plt.title(\"Distribution of Combined Goals in Men's and Women's Matches\")\n",
    "plt.xlabel('Combined Goals')\n",
    "plt.ylabel('Frequency')\n",
    "plt.legend()\n",
    "\n",
    "# Show the plot\n",
    "plt.show()"
   ]
  },
  {
   "cell_type": "markdown",
   "id": "dbf1f5f6-14df-431d-b423-59dd3dfa307e",
   "metadata": {},
   "source": [
    "# Perform Hypothesis Test\n",
    "Because both groups have non-normal (right skewed) distributions, we will use the non-parametric Mann-Whitney U test"
   ]
  },
  {
   "cell_type": "code",
   "execution_count": 19,
   "id": "0b29ef53-4856-48d6-bef3-86c1486106b8",
   "metadata": {
    "collapsed": false,
    "executionCancelledAt": null,
    "executionTime": 49,
    "jupyter": {
     "outputs_hidden": false,
     "source_hidden": false
    },
    "lastExecutedAt": 1736983508735,
    "lastExecutedByKernel": "9f22b6c8-edc5-4b9c-8db7-46f1202f2a95",
    "lastScheduledRunId": null,
    "lastSuccessfullyExecutedCode": "# Mann-Whitney U Test\nimport pingouin\n\n# Pivot to wide format\nresults_wide = results.pivot(columns='gender', values='combined_goals')\n\n# Apply test\nwmw_test = pingouin.mwu(x=results_wide['women'],\n            y=results_wide['men'],\n            alternative='greater')\n\nprint(wmw_test)",
    "outputsMetadata": {
     "0": {
      "height": 0,
      "type": "stream"
     }
    }
   },
   "outputs": [
    {
     "name": "stdout",
     "output_type": "stream",
     "text": [
      "       U-val alternative     p-val       RBC      CLES\n",
      "MWU  43273.0     greater  0.005107  0.126901  0.563451\n"
     ]
    }
   ],
   "source": [
    "# Mann-Whitney U Test\n",
    "import pingouin as pg\n",
    "\n",
    "# Pivot to wide format\n",
    "results_wide = results.pivot(columns='gender', values='combined_goals')\n",
    "\n",
    "# Apply test\n",
    "wmw_test = pg.mwu(x=results_wide['women'],\n",
    "            y=results_wide['men'],\n",
    "            alternative='greater')\n",
    "\n",
    "print(wmw_test)"
   ]
  },
  {
   "cell_type": "markdown",
   "id": "ecfc2e84-c728-45ed-a378-ad4056fb2fbf",
   "metadata": {},
   "source": [
    "# Interpret Results"
   ]
  },
  {
   "cell_type": "code",
   "execution_count": 20,
   "id": "a31701c0-d8d9-422f-a0b4-94ed1738f71e",
   "metadata": {
    "executionCancelledAt": null,
    "executionTime": 52,
    "lastExecutedAt": 1736983508787,
    "lastExecutedByKernel": "9f22b6c8-edc5-4b9c-8db7-46f1202f2a95",
    "lastScheduledRunId": null,
    "lastSuccessfullyExecutedCode": "# Store p-value\np_val = wmw_test.iloc[0].loc['p-val']\nalpha = 0.1\n\n# Reject or Fail to Reject the Null Hypothesis\nif p_val <= alpha :\n    result = 'reject'\nelse :\n    result = 'fail to reject'\n    \nresult_dict = {\"p_val\": p_val, \"result\": result}\nprint(result_dict)",
    "outputsMetadata": {
     "0": {
      "height": 0,
      "type": "stream"
     }
    }
   },
   "outputs": [
    {
     "name": "stdout",
     "output_type": "stream",
     "text": [
      "{'p_val': 0.005106609825443641, 'result': 'reject'}\n"
     ]
    }
   ],
   "source": [
    "# Store p-value\n",
    "p_val = wmw_test.iloc[0].loc['p-val']\n",
    "alpha = 0.1\n",
    "\n",
    "# Reject or Fail to Reject the Null Hypothesis\n",
    "if p_val <= alpha :\n",
    "    result = 'reject'\n",
    "else :\n",
    "    result = 'fail to reject'\n",
    "    \n",
    "result_dict = {\"p_val\": p_val, \"result\": result}\n",
    "print(result_dict)"
   ]
  },
  {
   "cell_type": "markdown",
   "id": "9260f141-9c00-45b7-bdd7-d199d00032e4",
   "metadata": {},
   "source": [
    "In conclusion, we fail to reject the null hypothesis, which states that \"The mean number of goals scored in women's international soccer matches is the same as men's.\" This implies that there is, indeed, a statistically significant difference between the mean goals scored in FIFA World Cup women's matches (2.98) and FIFA World Cup men's matches (2.51)."
   ]
  }
 ],
 "metadata": {
  "colab": {
   "name": "Welcome to DataCamp Workspaces.ipynb",
   "provenance": []
  },
  "kernelspec": {
   "display_name": "Python 3 (ipykernel)",
   "language": "python",
   "name": "python3"
  },
  "language_info": {
   "codemirror_mode": {
    "name": "ipython",
    "version": 3
   },
   "file_extension": ".py",
   "mimetype": "text/x-python",
   "name": "python",
   "nbconvert_exporter": "python",
   "pygments_lexer": "ipython3",
   "version": "3.12.7"
  }
 },
 "nbformat": 4,
 "nbformat_minor": 5
}
